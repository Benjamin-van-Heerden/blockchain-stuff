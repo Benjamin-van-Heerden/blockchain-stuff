{
 "cells": [
  {
   "cell_type": "code",
   "execution_count": 1,
   "metadata": {},
   "outputs": [
    {
     "name": "stdout",
     "output_type": "stream",
     "text": [
      "// SPDX-License-Identifier: MIT\n",
      "pragma solidity ^0.8.12;\n",
      "\n",
      "contract SimpleStorage {\n",
      "\n",
      "    // this will get initialized to 0\n",
      "    uint256 favoriteNumber;\n",
      "    bool favoriteBool;\n",
      "\n",
      "    struct Person {\n",
      "        uint256 favoriteNumber;\n",
      "        string name;\n",
      "    }\n",
      "\n",
      "    // this array is dynamic specifying\n",
      "    Person[] public people;\n",
      "    // mappings in sol have default values, for uint256 it's 0\n",
      "    mapping(string => uint256) public nameToFavoriteNumber;\n",
      "\n",
      "    function store(uint256 _favoriteNumber) public {\n",
      "        favoriteNumber = _favoriteNumber;\n",
      "    }\n",
      "\n",
      "    function retrieve() public view returns (uint256) {\n",
      "        return favoriteNumber;\n",
      "    }\n",
      "\n",
      "    function addPerson(string memory _name, uint256 _favoriteNumber) public {\n",
      "        people.push(Person(_favoriteNumber, _name));\n",
      "        nameToFavoriteNumber[_name] = _favoriteNumber;\n",
      "    }\n",
      "\n",
      "}\n",
      "\n",
      "// what if we want to have many instances of this contract?\n",
      "\n"
     ]
    }
   ],
   "source": [
    "with open(\"../contracts/SimpleStorage.sol\", \"r\") as file:\n",
    "    simple_storage_file = file.read()\n",
    "\n",
    "print(simple_storage_file)"
   ]
  },
  {
   "cell_type": "code",
   "execution_count": 2,
   "metadata": {},
   "outputs": [],
   "source": [
    "# now we have to compile our smart contract - will use python solc-x package\n",
    "from solcx import compile_standard"
   ]
  },
  {
   "cell_type": "code",
   "execution_count": 3,
   "metadata": {},
   "outputs": [],
   "source": [
    "compiled_sol = compile_standard(\n",
    "    {\n",
    "        \"language\": \"Solidity\",\n",
    "        \"sources\": {\"SimpleStorage.sol\": {\"content\": simple_storage_file}},\n",
    "        \"settings\": {\n",
    "            \"outputSelection\": {\n",
    "                \"*\": {\n",
    "                    \"*\": [\"abi\", \"metadata\", \"evm.bytecode\", \"evm.bytecode.sourceMap\"]\n",
    "                }\n",
    "            }\n",
    "        },\n",
    "    },\n",
    "    solc_version=\"0.8.17\",\n",
    ")\n"
   ]
  },
  {
   "cell_type": "code",
   "execution_count": 4,
   "metadata": {},
   "outputs": [],
   "source": [
    "import json"
   ]
  },
  {
   "cell_type": "code",
   "execution_count": 5,
   "metadata": {},
   "outputs": [],
   "source": [
    "with open(\"compiled_code.json\", \"w\") as file:\n",
    "    json.dump(compiled_sol, file)"
   ]
  },
  {
   "cell_type": "code",
   "execution_count": 6,
   "metadata": {},
   "outputs": [],
   "source": [
    "# get bytecode\n",
    "bytecode = compiled_sol[\"contracts\"][\"SimpleStorage.sol\"][\"SimpleStorage\"][\"evm\"][\"bytecode\"][\"object\"]\n",
    "# get abi\n",
    "abi = compiled_sol[\"contracts\"][\"SimpleStorage.sol\"][\"SimpleStorage\"][\"abi\"]"
   ]
  },
  {
   "cell_type": "code",
   "execution_count": 7,
   "metadata": {},
   "outputs": [
    {
     "data": {
      "text/plain": [
       "[{'inputs': [{'internalType': 'string', 'name': '_name', 'type': 'string'},\n",
       "   {'internalType': 'uint256', 'name': '_favoriteNumber', 'type': 'uint256'}],\n",
       "  'name': 'addPerson',\n",
       "  'outputs': [],\n",
       "  'stateMutability': 'nonpayable',\n",
       "  'type': 'function'},\n",
       " {'inputs': [{'internalType': 'string', 'name': '', 'type': 'string'}],\n",
       "  'name': 'nameToFavoriteNumber',\n",
       "  'outputs': [{'internalType': 'uint256', 'name': '', 'type': 'uint256'}],\n",
       "  'stateMutability': 'view',\n",
       "  'type': 'function'},\n",
       " {'inputs': [{'internalType': 'uint256', 'name': '', 'type': 'uint256'}],\n",
       "  'name': 'people',\n",
       "  'outputs': [{'internalType': 'uint256',\n",
       "    'name': 'favoriteNumber',\n",
       "    'type': 'uint256'},\n",
       "   {'internalType': 'string', 'name': 'name', 'type': 'string'}],\n",
       "  'stateMutability': 'view',\n",
       "  'type': 'function'},\n",
       " {'inputs': [],\n",
       "  'name': 'retrieve',\n",
       "  'outputs': [{'internalType': 'uint256', 'name': '', 'type': 'uint256'}],\n",
       "  'stateMutability': 'view',\n",
       "  'type': 'function'},\n",
       " {'inputs': [{'internalType': 'uint256',\n",
       "    'name': '_favoriteNumber',\n",
       "    'type': 'uint256'}],\n",
       "  'name': 'store',\n",
       "  'outputs': [],\n",
       "  'stateMutability': 'nonpayable',\n",
       "  'type': 'function'}]"
      ]
     },
     "execution_count": 7,
     "metadata": {},
     "output_type": "execute_result"
    }
   ],
   "source": [
    "abi"
   ]
  },
  {
   "cell_type": "code",
   "execution_count": 9,
   "metadata": {},
   "outputs": [],
   "source": [
    "# now deploy\n",
    "\n",
    "from web3 import Web3\n",
    "\n",
    "# connect to local ganache\n",
    "w3 = Web3(Web3.HTTPProvider(\"HTTP://127.0.0.1:7545\"))\n",
    "chain_id = 1337\n",
    "my_address = \"0x59F73B6aEF0E11fcA0BaB47e950674E4Ae693e68\"\n",
    "private_key = \"0xcdf6b18fd82ca4bd20f9f456ca375f23c8f731bb3d6972feab9b59d8b280aed6\""
   ]
  },
  {
   "cell_type": "code",
   "execution_count": 10,
   "metadata": {},
   "outputs": [
    {
     "data": {
      "text/plain": [
       "web3._utils.datatypes.Contract"
      ]
     },
     "execution_count": 10,
     "metadata": {},
     "output_type": "execute_result"
    }
   ],
   "source": [
    "SimpleStorage = w3.eth.contract(abi=abi, bytecode=bytecode)\n",
    "SimpleStorage"
   ]
  },
  {
   "cell_type": "code",
   "execution_count": 11,
   "metadata": {},
   "outputs": [
    {
     "data": {
      "text/plain": [
       "0"
      ]
     },
     "execution_count": 11,
     "metadata": {},
     "output_type": "execute_result"
    }
   ],
   "source": [
    "# build a transaction that deploys the contract\n",
    "# get the latest transaction nonce\n",
    "nonce = w3.eth.getTransactionCount(my_address)\n",
    "nonce"
   ]
  },
  {
   "cell_type": "code",
   "execution_count": 13,
   "metadata": {},
   "outputs": [
    {
     "data": {
      "text/plain": [
       "{'value': 0,\n",
       " 'gas': 562541,\n",
       " 'gasPrice': 20000000000,\n",
       " 'chainId': 1337,\n",
       " 'from': '0x59F73B6aEF0E11fcA0BaB47e950674E4Ae693e68',\n",
       " 'nonce': 0,\n",
       " 'data': '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',\n",
       " 'to': b''}"
      ]
     },
     "execution_count": 13,
     "metadata": {},
     "output_type": "execute_result"
    }
   ],
   "source": [
    "# build a transaction - SimpleStorage does not have a constructor\n",
    "transaction = SimpleStorage.constructor().buildTransaction({\n",
    "    \"gasPrice\": w3.eth.gas_price,\n",
    "    \"chainId\": chain_id,\n",
    "    \"from\": my_address,\n",
    "    \"nonce\": nonce,\n",
    "})\n",
    "transaction"
   ]
  },
  {
   "cell_type": "code",
   "execution_count": 14,
   "metadata": {},
   "outputs": [
    {
     "data": {
      "text/plain": [
       "SignedTransaction(rawTransaction=HexBytes('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'), hash=HexBytes('0x55f99fe8d9ec5b2c35bf50c573ea318a56308465f8200d47fe93e606301ad9f2'), r=78309699871995156573059848032015955629098462515025174247853120689750324982040, s=46127906946778079569160076521357840694798822461234383689050474710215694895774, v=2709)"
      ]
     },
     "execution_count": 14,
     "metadata": {},
     "output_type": "execute_result"
    }
   ],
   "source": [
    "# sign the transaction\n",
    "signed_txn = w3.eth.account.sign_transaction(transaction, private_key=private_key)\n",
    "signed_txn"
   ]
  },
  {
   "cell_type": "code",
   "execution_count": 15,
   "metadata": {},
   "outputs": [],
   "source": [
    "# send the transaction\n",
    "tx_hash = w3.eth.send_raw_transaction(signed_txn.rawTransaction)"
   ]
  },
  {
   "cell_type": "code",
   "execution_count": 16,
   "metadata": {},
   "outputs": [
    {
     "data": {
      "text/plain": [
       "AttributeDict({'transactionHash': HexBytes('0x55f99fe8d9ec5b2c35bf50c573ea318a56308465f8200d47fe93e606301ad9f2'),\n",
       " 'transactionIndex': 0,\n",
       " 'blockHash': HexBytes('0x7bc3271f7c866118f01a3cb8162cfd9496a84b16c4e253dae437885268a4d5bc'),\n",
       " 'blockNumber': 1,\n",
       " 'from': '0x59F73B6aEF0E11fcA0BaB47e950674E4Ae693e68',\n",
       " 'to': None,\n",
       " 'gasUsed': 562541,\n",
       " 'cumulativeGasUsed': 562541,\n",
       " 'contractAddress': '0xEd1787112C04A01FF76343aeD1ecc162c2C7c40a',\n",
       " 'logs': [],\n",
       " 'status': 1,\n",
       " 'logsBloom': HexBytes('0x00000000000000000000000000000000000000000000000000000000000000000000000000000000000000000000000000000000000000000000000000000000000000000000000000000000000000000000000000000000000000000000000000000000000000000000000000000000000000000000000000000000000000000000000000000000000000000000000000000000000000000000000000000000000000000000000000000000000000000000000000000000000000000000000000000000000000000000000000000000000000000000000000000000000000000000000000000000000000000000000000000000000000000000000000000000')})"
      ]
     },
     "execution_count": 16,
     "metadata": {},
     "output_type": "execute_result"
    }
   ],
   "source": [
    "# wait for the transaction to be mined\n",
    "tx_receipt = w3.eth.wait_for_transaction_receipt(tx_hash)\n",
    "tx_receipt"
   ]
  },
  {
   "cell_type": "code",
   "execution_count": 17,
   "metadata": {},
   "outputs": [],
   "source": [
    "# working with the contract\n",
    "# remember we always need the address and abi\n",
    "\n",
    "simple_storage = w3.eth.contract(address=tx_receipt.contractAddress, abi=abi)"
   ]
  },
  {
   "cell_type": "code",
   "execution_count": 18,
   "metadata": {},
   "outputs": [
    {
     "data": {
      "text/plain": [
       "[<Function addPerson(string,uint256)>,\n",
       " <Function nameToFavoriteNumber(string)>,\n",
       " <Function people(uint256)>,\n",
       " <Function retrieve()>,\n",
       " <Function store(uint256)>]"
      ]
     },
     "execution_count": 18,
     "metadata": {},
     "output_type": "execute_result"
    }
   ],
   "source": [
    "simple_storage.all_functions()"
   ]
  },
  {
   "cell_type": "code",
   "execution_count": 23,
   "metadata": {},
   "outputs": [
    {
     "data": {
      "text/plain": [
       "0"
      ]
     },
     "execution_count": 23,
     "metadata": {},
     "output_type": "execute_result"
    }
   ],
   "source": [
    "# simple_storage.all_functions() returns a list of functions\n",
    "# [<Function addPerson(string,uint256)>,\n",
    "#  <Function nameToFavoriteNumber(string)>,\n",
    "#  <Function people(uint256)>,\n",
    "#  <Function retrieve()>,\n",
    "#  <Function store(uint256)>]\n",
    "\n",
    "# lets call the retrieve function\n",
    "\n",
    "simple_storage.functions.retrieve().call()"
   ]
  },
  {
   "cell_type": "code",
   "execution_count": 24,
   "metadata": {},
   "outputs": [
    {
     "data": {
      "text/plain": [
       "{'value': 0,\n",
       " 'gas': 41624,\n",
       " 'gasPrice': 20000000000,\n",
       " 'chainId': 1337,\n",
       " 'from': '0x59F73B6aEF0E11fcA0BaB47e950674E4Ae693e68',\n",
       " 'nonce': 1,\n",
       " 'to': '0xEd1787112C04A01FF76343aeD1ecc162c2C7c40a',\n",
       " 'data': '0x6057361d000000000000000000000000000000000000000000000000000000000000000f'}"
      ]
     },
     "execution_count": 24,
     "metadata": {},
     "output_type": "execute_result"
    }
   ],
   "source": [
    "# now store a new value\n",
    "\n",
    "store_txn = simple_storage.functions.store(15).buildTransaction({\n",
    "    \"gasPrice\": w3.eth.gas_price,\n",
    "    \"chainId\": chain_id,\n",
    "    \"from\": my_address,\n",
    "    \"nonce\": nonce + 1,\n",
    "})\n",
    "\n",
    "store_txn"
   ]
  },
  {
   "cell_type": "code",
   "execution_count": 25,
   "metadata": {},
   "outputs": [
    {
     "data": {
      "text/plain": [
       "SignedTransaction(rawTransaction=HexBytes('0xf88a018504a817c80082a29894ed1787112c04a01ff76343aed1ecc162c2c7c40a80a46057361d000000000000000000000000000000000000000000000000000000000000000f820a96a05b9711d947199abf9381eef65edb24f3f8bf177c23f691d42e322e8780f1cd62a04e8af67b14ad6cac1751edee4df580978c8662a5e2918ae564120ea417ac7e4b'), hash=HexBytes('0x819b790247b074c6442e01f194b56e6694ceb64dc13fea7e76557ebde377ccd1'), r=41427386315342805369965738134042747030181080433026475350866814669419638279522, s=35525928232286534403839553234886586074771195382431383334520168789498850475595, v=2710)"
      ]
     },
     "execution_count": 25,
     "metadata": {},
     "output_type": "execute_result"
    }
   ],
   "source": [
    "# sign the transaction\n",
    "signed_store_txn = w3.eth.account.sign_transaction(store_txn, private_key=private_key)\n",
    "signed_store_txn"
   ]
  },
  {
   "cell_type": "code",
   "execution_count": 26,
   "metadata": {},
   "outputs": [
    {
     "data": {
      "text/plain": [
       "AttributeDict({'transactionHash': HexBytes('0x819b790247b074c6442e01f194b56e6694ceb64dc13fea7e76557ebde377ccd1'),\n",
       " 'transactionIndex': 0,\n",
       " 'blockHash': HexBytes('0xd84fc3890e46cce49cb8d7195de87246de82b6111d992be98f2f1e30b640e916'),\n",
       " 'blockNumber': 2,\n",
       " 'from': '0x59F73B6aEF0E11fcA0BaB47e950674E4Ae693e68',\n",
       " 'to': '0xEd1787112C04A01FF76343aeD1ecc162c2C7c40a',\n",
       " 'gasUsed': 41624,\n",
       " 'cumulativeGasUsed': 41624,\n",
       " 'contractAddress': None,\n",
       " 'logs': [],\n",
       " 'status': 1,\n",
       " 'logsBloom': HexBytes('0x00000000000000000000000000000000000000000000000000000000000000000000000000000000000000000000000000000000000000000000000000000000000000000000000000000000000000000000000000000000000000000000000000000000000000000000000000000000000000000000000000000000000000000000000000000000000000000000000000000000000000000000000000000000000000000000000000000000000000000000000000000000000000000000000000000000000000000000000000000000000000000000000000000000000000000000000000000000000000000000000000000000000000000000000000000000')})"
      ]
     },
     "execution_count": 26,
     "metadata": {},
     "output_type": "execute_result"
    }
   ],
   "source": [
    "# send the transaction\n",
    "send_store_txn = w3.eth.send_raw_transaction(signed_store_txn.rawTransaction)\n",
    "\n",
    "# wait for the transaction to be mined\n",
    "send_store_receipt = w3.eth.wait_for_transaction_receipt(send_store_txn)\n",
    "send_store_receipt"
   ]
  },
  {
   "cell_type": "code",
   "execution_count": 27,
   "metadata": {},
   "outputs": [
    {
     "data": {
      "text/plain": [
       "15"
      ]
     },
     "execution_count": 27,
     "metadata": {},
     "output_type": "execute_result"
    }
   ],
   "source": [
    "# now call the retrieve function again\n",
    "\n",
    "simple_storage.functions.retrieve().call()"
   ]
  },
  {
   "cell_type": "code",
   "execution_count": null,
   "metadata": {},
   "outputs": [],
   "source": []
  }
 ],
 "metadata": {
  "kernelspec": {
   "display_name": "base",
   "language": "python",
   "name": "python3"
  },
  "language_info": {
   "codemirror_mode": {
    "name": "ipython",
    "version": 3
   },
   "file_extension": ".py",
   "mimetype": "text/x-python",
   "name": "python",
   "nbconvert_exporter": "python",
   "pygments_lexer": "ipython3",
   "version": "3.9.12"
  },
  "orig_nbformat": 4,
  "vscode": {
   "interpreter": {
    "hash": "a15702a29ea01ae7aa6b51d803dd08c0ac5dbedc153ed7a5fc67a3e004dd827d"
   }
  }
 },
 "nbformat": 4,
 "nbformat_minor": 2
}

{
 "cells": [
  {
   "cell_type": "code",
   "execution_count": 1,
   "metadata": {},
   "outputs": [
    {
     "name": "stdout",
     "output_type": "stream",
     "text": [
      "// SPDX-License-Identifier: MIT\n",
      "pragma solidity ^0.8.12;\n",
      "\n",
      "contract SimpleStorage {\n",
      "\n",
      "    // this will get initialized to 0\n",
      "    uint256 favoriteNumber;\n",
      "    bool favoriteBool;\n",
      "\n",
      "    struct Person {\n",
      "        uint256 favoriteNumber;\n",
      "        string name;\n",
      "    }\n",
      "\n",
      "    // this array is dynamic specifying\n",
      "    Person[] public people;\n",
      "    // mappings in sol have default values, for uint256 it's 0\n",
      "    mapping(string => uint256) public nameToFavoriteNumber;\n",
      "\n",
      "    function store(uint256 _favoriteNumber) public {\n",
      "        favoriteNumber = _favoriteNumber;\n",
      "    }\n",
      "\n",
      "    function retrieve() public view returns (uint256) {\n",
      "        return favoriteNumber;\n",
      "    }\n",
      "\n",
      "    function addPerson(string memory _name, uint256 _favoriteNumber) public {\n",
      "        people.push(Person(_favoriteNumber, _name));\n",
      "        nameToFavoriteNumber[_name] = _favoriteNumber;\n",
      "    }\n",
      "\n",
      "}\n",
      "\n",
      "// what if we want to have many instances of this contract?\n",
      "\n"
     ]
    }
   ],
   "source": [
    "with open(\"../contracts/SimpleStorage.sol\", \"r\") as file:\n",
    "    simple_storage_file = file.read()\n",
    "\n",
    "print(simple_storage_file)"
   ]
  },
  {
   "cell_type": "code",
   "execution_count": 5,
   "metadata": {},
   "outputs": [],
   "source": [
    "# now we have to compile our smart contract - will use python solc-x package\n",
    "from solcx import compile_standard"
   ]
  },
  {
   "cell_type": "code",
   "execution_count": 12,
   "metadata": {},
   "outputs": [],
   "source": [
    "compiled_sol = compile_standard(\n",
    "    {\n",
    "        \"language\": \"Solidity\",\n",
    "        \"sources\": {\"SimpleStorage.sol\": {\"content\": simple_storage_file}},\n",
    "        \"settings\": {\n",
    "            \"outputSelection\": {\n",
    "                \"*\": {\n",
    "                    \"*\": [\"abi\", \"metadata\", \"evm.bytecode\", \"evm.bytecode.sourceMap\"]\n",
    "                }\n",
    "            }\n",
    "        },\n",
    "    },\n",
    "    solc_version=\"0.8.17\",\n",
    ")\n"
   ]
  },
  {
   "cell_type": "code",
   "execution_count": 14,
   "metadata": {},
   "outputs": [],
   "source": [
    "import json"
   ]
  },
  {
   "cell_type": "code",
   "execution_count": 15,
   "metadata": {},
   "outputs": [],
   "source": [
    "with open(\"compiled_code.json\", \"w\") as file:\n",
    "    json.dump(compiled_sol, file)"
   ]
  },
  {
   "cell_type": "code",
   "execution_count": null,
   "metadata": {},
   "outputs": [],
   "source": [
    "# get bytecode\n",
    "bytecode = compiled_sol[\"contracts\"][\"SimpleStorage.sol\"][\"SimpleStorage\"][\"evm\"][\"bytecode\"][\"object\"]\n",
    "# get abi\n",
    "abi = compiled_sol[\"contracts\"][\"SimpleStorage.sol\"][\"SimpleStorage\"][\"abi\"]"
   ]
  }
 ],
 "metadata": {
  "kernelspec": {
   "display_name": "base",
   "language": "python",
   "name": "python3"
  },
  "language_info": {
   "codemirror_mode": {
    "name": "ipython",
    "version": 3
   },
   "file_extension": ".py",
   "mimetype": "text/x-python",
   "name": "python",
   "nbconvert_exporter": "python",
   "pygments_lexer": "ipython3",
   "version": "3.9.12"
  },
  "orig_nbformat": 4,
  "vscode": {
   "interpreter": {
    "hash": "a15702a29ea01ae7aa6b51d803dd08c0ac5dbedc153ed7a5fc67a3e004dd827d"
   }
  }
 },
 "nbformat": 4,
 "nbformat_minor": 2
}
